{
 "cells": [
  {
   "cell_type": "code",
   "execution_count": 2,
   "metadata": {},
   "outputs": [],
   "source": [
    "import lupa\n",
    "from lupa import LuaRuntime"
   ]
  },
  {
   "cell_type": "code",
   "execution_count": 3,
   "metadata": {},
   "outputs": [
    {
     "data": {
      "text/plain": [
       "2"
      ]
     },
     "execution_count": 3,
     "metadata": {},
     "output_type": "execute_result"
    }
   ],
   "source": [
    "lua = LuaRuntime(unpack_returned_tuples=True)\n",
    "lua.eval('1+1')\n"
   ]
  },
  {
   "cell_type": "code",
   "execution_count": 6,
   "metadata": {},
   "outputs": [
    {
     "data": {
      "text/plain": [
       "3"
      ]
     },
     "execution_count": 6,
     "metadata": {},
     "output_type": "execute_result"
    }
   ],
   "source": [
    "lua_func = lua.eval('function(py_add1, n) return py_add1(n) end')\n",
    "def py_add1(n): \n",
    "    return n+1\n",
    "lua_func(py_add1, 2)"
   ]
  },
  {
   "cell_type": "code",
   "execution_count": 8,
   "metadata": {},
   "outputs": [
    {
     "data": {
      "text/plain": [
       "True"
      ]
     },
     "execution_count": 8,
     "metadata": {},
     "output_type": "execute_result"
    }
   ],
   "source": [
    "wrapped_type = lua.globals().type     \n",
    "wrapped_type(1) == 'number'"
   ]
  },
  {
   "cell_type": "code",
   "execution_count": 9,
   "metadata": {},
   "outputs": [
    {
     "data": {
      "text/plain": [
       "\"foo = 'bar'\""
      ]
     },
     "execution_count": 9,
     "metadata": {},
     "output_type": "execute_result"
    }
   ],
   "source": [
    "\"foo = 'bar'\""
   ]
  },
  {
   "cell_type": "code",
   "execution_count": 2,
   "metadata": {},
   "outputs": [],
   "source": [
    "from lupa import LuaRuntime\n",
    "lua = LuaRuntime()\n",
    " \n",
    "lua_code = \"\"\"\n",
    "function (size)\n",
    "    a = {}\n",
    "    b = {}\n",
    "    st = os.clock()\n",
    "    for i=0, size-1 do\n",
    "        a[i] = math.random(size)\n",
    "    end\n",
    " \n",
    "    for i=0, size-1 do\n",
    "        b[i] = math.random(size)\n",
    "    end\n",
    " \n",
    "    print(\"LUA init: \"..(os.clock()-st))\n",
    " \n",
    "    st = os.clock()\n",
    "    for i=0, size-1 do\n",
    "        if a[i] ~= b[i] then\n",
    "            a[i] = a[i] + b[i]\n",
    "        end\n",
    "    end\n",
    "    print(\"LUA sum: \"..(os.clock()-st))\n",
    "end\n",
    "\"\"\"\n",
    "test = lua.eval(lua_code)\n",
    "size = 5000000\n",
    "test(size)"
   ]
  },
  {
   "cell_type": "code",
   "execution_count": null,
   "metadata": {},
   "outputs": [],
   "source": []
  }
 ],
 "metadata": {
  "kernelspec": {
   "display_name": "Python 3",
   "language": "python",
   "name": "python3"
  },
  "language_info": {
   "codemirror_mode": {
    "name": "ipython",
    "version": 3
   },
   "file_extension": ".py",
   "mimetype": "text/x-python",
   "name": "python",
   "nbconvert_exporter": "python",
   "pygments_lexer": "ipython3",
   "version": "3.6.6"
  },
  "varInspector": {
   "cols": {
    "lenName": 16,
    "lenType": 16,
    "lenVar": 40
   },
   "kernels_config": {
    "python": {
     "delete_cmd_postfix": "",
     "delete_cmd_prefix": "del ",
     "library": "var_list.py",
     "varRefreshCmd": "print(var_dic_list())"
    },
    "r": {
     "delete_cmd_postfix": ") ",
     "delete_cmd_prefix": "rm(",
     "library": "var_list.r",
     "varRefreshCmd": "cat(var_dic_list()) "
    }
   },
   "types_to_exclude": [
    "module",
    "function",
    "builtin_function_or_method",
    "instance",
    "_Feature"
   ],
   "window_display": false
  }
 },
 "nbformat": 4,
 "nbformat_minor": 2
}
