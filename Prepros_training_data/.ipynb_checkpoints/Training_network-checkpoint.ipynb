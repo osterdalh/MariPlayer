{
 "cells": [
  {
   "cell_type": "code",
   "execution_count": 233,
   "metadata": {},
   "outputs": [],
   "source": [
    "import numpy as np\n",
    "import keras\n",
    "import pickle\n",
    "import sklearn\n",
    "from sklearn.utils import shuffle"
   ]
  },
  {
   "cell_type": "code",
   "execution_count": 234,
   "metadata": {},
   "outputs": [],
   "source": [
    "with open('x_train_saved.pickle', 'rb') as f:\n",
    "    x_train = np.array(pickle.load(f))\n",
    "    \n",
    "    \n",
    "with open('y_train_saved.pickle', 'rb') as f:\n",
    "    y_train = np.array((pickle.load(f)))"
   ]
  },
  {
   "cell_type": "code",
   "execution_count": 235,
   "metadata": {},
   "outputs": [
    {
     "name": "stdout",
     "output_type": "stream",
     "text": [
      " x_train shape:  (5986, 208) \n",
      " y_train shape:  (5986, 4)\n"
     ]
    }
   ],
   "source": [
    "x_train = x_train[0,:,:]\n",
    "y_train = y_train[0,:,:]\n",
    "print(\" x_train shape: \", x_train.shape, \"\\n\", \"y_train shape: \", y_train.shape)"
   ]
  },
  {
   "cell_type": "code",
   "execution_count": null,
   "metadata": {},
   "outputs": [],
   "source": []
  },
  {
   "cell_type": "code",
   "execution_count": 236,
   "metadata": {},
   "outputs": [],
   "source": [
    "x_train = np.vstack(x_train)\n",
    "x_train = x_train.reshape(x_train.shape[0], 13, 16,1)\n",
    "y_train = np.vstack(y_train)\n",
    "x_train, y_train = shuffle(x_train, y_train, random_state=0)"
   ]
  },
  {
   "cell_type": "code",
   "execution_count": 237,
   "metadata": {},
   "outputs": [],
   "source": [
    "input_shape = (13, 16, 1)"
   ]
  },
  {
   "cell_type": "code",
   "execution_count": 238,
   "metadata": {},
   "outputs": [
    {
     "data": {
      "text/plain": [
       "(5986, 13, 16, 1)"
      ]
     },
     "execution_count": 238,
     "metadata": {},
     "output_type": "execute_result"
    }
   ],
   "source": [
    "x_train.shape"
   ]
  },
  {
   "cell_type": "code",
   "execution_count": null,
   "metadata": {},
   "outputs": [],
   "source": []
  },
  {
   "cell_type": "code",
   "execution_count": 239,
   "metadata": {},
   "outputs": [],
   "source": [
    "from keras.optimizers import Adam\n",
    "from keras.layers import Dense, Conv2D, Dropout, Flatten\n",
    "from keras import Sequential\n",
    "import matplotlib.pyplot as plt\n"
   ]
  },
  {
   "cell_type": "code",
   "execution_count": 247,
   "metadata": {},
   "outputs": [
    {
     "name": "stdout",
     "output_type": "stream",
     "text": [
      "_________________________________________________________________\n",
      "Layer (type)                 Output Shape              Param #   \n",
      "=================================================================\n",
      "conv2d_61 (Conv2D)           (None, 10, 13, 4)         68        \n",
      "_________________________________________________________________\n",
      "dropout_30 (Dropout)         (None, 10, 13, 4)         0         \n",
      "_________________________________________________________________\n",
      "conv2d_62 (Conv2D)           (None, 4, 6, 4)           148       \n",
      "_________________________________________________________________\n",
      "dense_140 (Dense)            (None, 4, 6, 20)          100       \n",
      "_________________________________________________________________\n",
      "flatten_31 (Flatten)         (None, 480)               0         \n",
      "_________________________________________________________________\n",
      "dense_141 (Dense)            (None, 4)                 1924      \n",
      "=================================================================\n",
      "Total params: 2,240\n",
      "Trainable params: 2,240\n",
      "Non-trainable params: 0\n",
      "_________________________________________________________________\n"
     ]
    }
   ],
   "source": [
    "model = Sequential([\n",
    "    #Dense(10, activation='relu', input_shape=(x_train.shape[1],)),\n",
    "   Conv2D(4, kernel_size=(4, 4), strides=(1, 1), activation='linear', input_shape=(input_shape)),\n",
    "    Dropout(0.3),\n",
    "    Conv2D(4, kernel_size=(3, 3), strides=(1, 1), activation='linear', input_shape=(input_shape)),\n",
    "\n",
    "    Dense(20, activation='relu'),\n",
    "    Flatten(),\n",
    "    Dense(4, activation='softmax')\n",
    "])\n",
    "\n",
    "\n",
    "model.compile(Adam(lr = 0.015),loss = 'categorical_crossentropy', metrics=['accuracy'])\n",
    "model.summary()"
   ]
  },
  {
   "cell_type": "code",
   "execution_count": 243,
   "metadata": {
    "scrolled": true
   },
   "outputs": [
    {
     "name": "stdout",
     "output_type": "stream",
     "text": [
      "Train on 4788 samples, validate on 1198 samples\n",
      "Epoch 1/30\n",
      " - 3s - loss: 0.6972 - acc: 0.7337 - val_loss: 0.6418 - val_acc: 0.7830\n",
      "Epoch 2/30\n",
      " - 1s - loss: 0.6188 - acc: 0.7602 - val_loss: 0.6267 - val_acc: 0.7880\n",
      "Epoch 3/30\n",
      " - 1s - loss: 0.6014 - acc: 0.7692 - val_loss: 0.6085 - val_acc: 0.7546\n",
      "Epoch 4/30\n",
      " - 1s - loss: 0.5969 - acc: 0.7667 - val_loss: 0.5879 - val_acc: 0.7638\n",
      "Epoch 5/30\n",
      " - 1s - loss: 0.5926 - acc: 0.7636 - val_loss: 0.5995 - val_acc: 0.7788\n",
      "Epoch 6/30\n",
      " - 1s - loss: 0.5955 - acc: 0.7638 - val_loss: 0.5861 - val_acc: 0.7613\n",
      "Epoch 7/30\n",
      " - 1s - loss: 0.5955 - acc: 0.7621 - val_loss: 0.5970 - val_acc: 0.7496\n",
      "Epoch 8/30\n",
      " - 1s - loss: 0.5868 - acc: 0.7655 - val_loss: 0.5977 - val_acc: 0.7504\n",
      "Epoch 9/30\n",
      " - 1s - loss: 0.5832 - acc: 0.7709 - val_loss: 0.6256 - val_acc: 0.7279\n",
      "Epoch 10/30\n",
      " - 1s - loss: 0.5859 - acc: 0.7629 - val_loss: 0.5918 - val_acc: 0.7563\n",
      "Epoch 11/30\n",
      " - 1s - loss: 0.5860 - acc: 0.7667 - val_loss: 0.5844 - val_acc: 0.7546\n",
      "Epoch 12/30\n",
      " - 1s - loss: 0.5838 - acc: 0.7646 - val_loss: 0.5833 - val_acc: 0.7496\n",
      "Epoch 13/30\n",
      " - 1s - loss: 0.5762 - acc: 0.7671 - val_loss: 0.5924 - val_acc: 0.7354\n",
      "Epoch 14/30\n",
      " - 1s - loss: 0.5769 - acc: 0.7709 - val_loss: 0.5749 - val_acc: 0.7821\n",
      "Epoch 15/30\n",
      " - 1s - loss: 0.5799 - acc: 0.7617 - val_loss: 0.5848 - val_acc: 0.7705\n",
      "Epoch 16/30\n",
      " - 1s - loss: 0.5771 - acc: 0.7696 - val_loss: 0.5839 - val_acc: 0.7788\n",
      "Epoch 17/30\n",
      " - 1s - loss: 0.5796 - acc: 0.7638 - val_loss: 0.6177 - val_acc: 0.7780\n",
      "Epoch 18/30\n",
      " - 1s - loss: 0.5813 - acc: 0.7713 - val_loss: 0.5867 - val_acc: 0.7629\n",
      "Epoch 19/30\n",
      " - 1s - loss: 0.5730 - acc: 0.7692 - val_loss: 0.5931 - val_acc: 0.7813\n",
      "Epoch 20/30\n",
      " - 1s - loss: 0.5733 - acc: 0.7673 - val_loss: 0.5922 - val_acc: 0.8080\n",
      "Epoch 21/30\n",
      " - 1s - loss: 0.5730 - acc: 0.7709 - val_loss: 0.5995 - val_acc: 0.7813\n",
      "Epoch 22/30\n",
      " - 1s - loss: 0.5917 - acc: 0.7629 - val_loss: 0.6189 - val_acc: 0.7997\n",
      "Epoch 23/30\n",
      " - 1s - loss: 0.5766 - acc: 0.7690 - val_loss: 0.6241 - val_acc: 0.8105\n",
      "Epoch 24/30\n",
      " - 1s - loss: 0.5836 - acc: 0.7696 - val_loss: 0.5954 - val_acc: 0.7855\n",
      "Epoch 25/30\n",
      " - 1s - loss: 0.5755 - acc: 0.7701 - val_loss: 0.5941 - val_acc: 0.7462\n",
      "Epoch 26/30\n",
      " - 1s - loss: 0.5703 - acc: 0.7698 - val_loss: 0.6173 - val_acc: 0.7379\n",
      "Epoch 27/30\n",
      " - 1s - loss: 0.5785 - acc: 0.7669 - val_loss: 0.5973 - val_acc: 0.7462\n",
      "Epoch 28/30\n",
      " - 1s - loss: 0.5740 - acc: 0.7648 - val_loss: 0.5895 - val_acc: 0.8114\n",
      "Epoch 29/30\n",
      " - 1s - loss: 0.5735 - acc: 0.7701 - val_loss: 0.6159 - val_acc: 0.7755\n",
      "Epoch 30/30\n",
      " - 1s - loss: 0.5707 - acc: 0.7659 - val_loss: 0.6038 - val_acc: 0.7404\n"
     ]
    }
   ],
   "source": [
    "history = model.fit(x_train, y_train, validation_split = 0.2, batch_size = 50, epochs = 30, verbose = 2)"
   ]
  },
  {
   "cell_type": "code",
   "execution_count": 222,
   "metadata": {},
   "outputs": [
    {
     "data": {
      "image/png": "[encoded data removed]",
      "text/plain": [
       "<Figure size 432x288 with 1 Axes>"
      ]
     },
     "metadata": {
      "needs_background": "light"
     },
     "output_type": "display_data"
    },
    {
     "name": "stdout",
     "output_type": "stream",
     "text": [
      "final validation acc:  0.6991869940505764 \n",
      "final validation loss:  4.848532849211034 \n",
      "final acc:  0.6910941517383391 \n",
      "final loss:  4.978974071774471\n"
     ]
    }
   ],
   "source": [
    "all_data = list(history.history.values())\n",
    "\n",
    "val_loss, val_acc, loss, acc = all_data[0], all_data[1], all_data[2], all_data[3]\n",
    "\n",
    "plt.plot(val_loss, label = \"val_loss\")\n",
    "plt.plot(val_acc, label = \"val_acc\")\n",
    "plt.plot(loss, label = \"loss\")\n",
    "plt.plot(acc, label = \"acc\")\n",
    "plt.legend(loc='best')\n",
    "\n",
    "final_element = len(val_acc)-1\n",
    "plt.show()\n",
    "print(\"final validation acc: \", val_acc[final_element],'\\n' \"final validation loss: \", val_loss[final_element],'\\n' \"final acc: \", acc[final_element],'\\n' \"final loss: \", loss[final_element])"
   ]
  },
  {
   "cell_type": "code",
   "execution_count": 228,
   "metadata": {},
   "outputs": [
    {
     "data": {
      "text/plain": [
       "array([[2.3457997e-01, 2.4002440e-14, 7.6542002e-01, 1.8951225e-08],\n",
       "       [1.8827067e-01, 3.7971895e-23, 8.1172878e-01, 5.7010857e-07],\n",
       "       [2.3955768e-01, 1.4217181e-02, 6.8676603e-01, 5.9459053e-02],\n",
       "       ...,\n",
       "       [1.7911536e-01, 1.8321136e-10, 7.9604399e-01, 2.4840683e-02],\n",
       "       [3.3951783e-01, 9.2059302e-09, 6.0888255e-01, 5.1599644e-02],\n",
       "       [2.6176336e-01, 2.4187949e-17, 7.3819262e-01, 4.4115910e-05]],\n",
       "      dtype=float32)"
      ]
     },
     "execution_count": 228,
     "metadata": {},
     "output_type": "execute_result"
    }
   ],
   "source": [
    "model.predict(x_train)"
   ]
  },
  {
   "cell_type": "code",
   "execution_count": 232,
   "metadata": {},
   "outputs": [
    {
     "data": {
      "text/plain": [
       "array([[1, 0, 1, 0],\n",
       "       [0, 0, 1, 0],\n",
       "       [1, 0, 1, 0],\n",
       "       ...,\n",
       "       [0, 0, 1, 0],\n",
       "       [1, 0, 1, 0],\n",
       "       [0, 0, 1, 0]])"
      ]
     },
     "execution_count": 232,
     "metadata": {},
     "output_type": "execute_result"
    }
   ],
   "source": [
    "y_train"
   ]
  },
  {
   "cell_type": "code",
   "execution_count": null,
   "metadata": {},
   "outputs": [],
   "source": []
  }
 ],
 "metadata": {
  "kernelspec": {
   "display_name": "Python 3",
   "language": "python",
   "name": "python3"
  },
  "language_info": {
   "codemirror_mode": {
    "name": "ipython",
    "version": 3
   },
   "file_extension": ".py",
   "mimetype": "text/x-python",
   "name": "python",
   "nbconvert_exporter": "python",
   "pygments_lexer": "ipython3",
   "version": "3.6.6"
  },
  "varInspector": {
   "cols": {
    "lenName": 16,
    "lenType": 16,
    "lenVar": 40
   },
   "kernels_config": {
    "python": {
     "delete_cmd_postfix": "",
     "delete_cmd_prefix": "del ",
     "library": "var_list.py",
     "varRefreshCmd": "print(var_dic_list())"
    },
    "r": {
     "delete_cmd_postfix": ") ",
     "delete_cmd_prefix": "rm(",
     "library": "var_list.r",
     "varRefreshCmd": "cat(var_dic_list()) "
    }
   },
   "types_to_exclude": [
    "module",
    "function",
    "builtin_function_or_method",
    "instance",
    "_Feature"
   ],
   "window_display": false
  }
 },
 "nbformat": 4,
 "nbformat_minor": 2
}
