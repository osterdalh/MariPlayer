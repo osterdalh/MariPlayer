{
 "cells": [
  {
   "cell_type": "code",
   "execution_count": 1,
   "metadata": {},
   "outputs": [
    {
     "name": "stderr",
     "output_type": "stream",
     "text": [
      "Using TensorFlow backend.\n"
     ]
    }
   ],
   "source": [
    "import numpy as np\n",
    "import keras\n",
    "import pickle\n",
    "import sklearn\n",
    "from sklearn.utils import shuffle\n",
    "import pandas as pd\n",
    "from random import shuffle\n"
   ]
  },
  {
   "cell_type": "code",
   "execution_count": 177,
   "metadata": {},
   "outputs": [],
   "source": [
    "with open('x_train_saved.pickle', 'rb') as f:\n",
    "    x_train = np.array(pickle.load(f))\n",
    "    \n",
    "    \n",
    "with open('y_train_saved.pickle', 'rb') as f:\n",
    "    y_train = np.array((pickle.load(f)))"
   ]
  },
  {
   "cell_type": "code",
   "execution_count": 178,
   "metadata": {},
   "outputs": [
    {
     "name": "stdout",
     "output_type": "stream",
     "text": [
      " x_train shape:  (5455, 208) \n",
      " y_train shape:  (5455, 3)\n"
     ]
    }
   ],
   "source": [
    "x_train = x_train[0,:,:]\n",
    "y_train = y_train[0,:,:]\n",
    "print(\" x_train shape: \", x_train.shape, \"\\n\", \"y_train shape: \", y_train.shape)"
   ]
  },
  {
   "cell_type": "code",
   "execution_count": null,
   "metadata": {},
   "outputs": [],
   "source": []
  },
  {
   "cell_type": "code",
   "execution_count": 179,
   "metadata": {},
   "outputs": [],
   "source": [
    "x_train = np.vstack(x_train)\n",
    "x_train = x_train.reshape(x_train.shape[0], 13, 16,1)\n",
    "y_train = np.vstack(y_train)\n",
    "#x_train, y_train = shuffle(x_train, y_train, random_state=1)\n",
    "input_shape = (13, 16, 1)"
   ]
  },
  {
   "cell_type": "code",
   "execution_count": 180,
   "metadata": {
    "scrolled": true
   },
   "outputs": [
    {
     "data": {
      "text/plain": [
       "(5455, 13, 16, 1)"
      ]
     },
     "execution_count": 180,
     "metadata": {},
     "output_type": "execute_result"
    }
   ],
   "source": [
    "x_train.shape"
   ]
  },
  {
   "cell_type": "code",
   "execution_count": 181,
   "metadata": {},
   "outputs": [
    {
     "name": "stdout",
     "output_type": "stream",
     "text": [
      "antall hopp: 1 antall høyre: 2477 antall HH 2977\n"
     ]
    }
   ],
   "source": [
    "hopp = 0\n",
    "hoyre = 0\n",
    "HH = 0\n",
    "\n",
    "antall_hoyre = []\n",
    "\n",
    "for i in range(len(y_train)):\n",
    "    if y_train[i][0] == 1:\n",
    "        hopp = hopp + 1\n",
    "    elif y_train[i][1] == 1:\n",
    "        hoyre = hoyre + 1\n",
    "        antall_hoyre.append(i)\n",
    "    elif y_train[i][2] == 1:\n",
    "        HH = HH + 1\n",
    "print(\"antall hopp:\", hopp, \"antall høyre:\", hoyre, \"antall HH\", HH)    \n",
    "    \n",
    "\n",
    "shuffle(antall_hoyre)        \n",
    "#print(antall_hoyre)\n",
    "delete_frames = antall_hoyre[:HH]\n",
    "\n",
    "    "
   ]
  },
  {
   "cell_type": "code",
   "execution_count": null,
   "metadata": {},
   "outputs": [],
   "source": []
  },
  {
   "cell_type": "code",
   "execution_count": 182,
   "metadata": {},
   "outputs": [
    {
     "name": "stdout",
     "output_type": "stream",
     "text": [
      "1 2477 2977\n"
     ]
    }
   ],
   "source": [
    "import matplotlib.pyplot as plt\n",
    "print(hopp, hoyre, HH)"
   ]
  },
  {
   "cell_type": "code",
   "execution_count": 187,
   "metadata": {},
   "outputs": [],
   "source": [
    "from keras.optimizers import Adam\n",
    "from keras.layers import Dense, Conv2D, Dropout, Flatten\n",
    "from keras import Sequential\n",
    "import matplotlib.pyplot as plt\n",
    "import seaborn as sns"
   ]
  },
  {
   "cell_type": "code",
   "execution_count": 188,
   "metadata": {},
   "outputs": [
    {
     "name": "stdout",
     "output_type": "stream",
     "text": [
      "_________________________________________________________________\n",
      "Layer (type)                 Output Shape              Param #   \n",
      "=================================================================\n",
      "conv2d_45 (Conv2D)           (None, 10, 13, 20)        340       \n",
      "_________________________________________________________________\n",
      "conv2d_46 (Conv2D)           (None, 8, 11, 4)          724       \n",
      "_________________________________________________________________\n",
      "dense_60 (Dense)             (None, 8, 11, 10)         50        \n",
      "_________________________________________________________________\n",
      "flatten_23 (Flatten)         (None, 880)               0         \n",
      "_________________________________________________________________\n",
      "dense_61 (Dense)             (None, 3)                 2643      \n",
      "=================================================================\n",
      "Total params: 3,757\n",
      "Trainable params: 3,757\n",
      "Non-trainable params: 0\n",
      "_________________________________________________________________\n"
     ]
    }
   ],
   "source": [
    "model = Sequential([\n",
    "    #Dense(10, activation='relu', input_shape=(x_train.shape[1],)),\n",
    "    Conv2D(20, kernel_size=(4, 4), strides=(1, 1), activation='linear', input_shape=(input_shape)),\n",
    "    Conv2D(4, kernel_size=(3, 3), strides=(1, 1), activation='linear', input_shape=(input_shape)),\n",
    "\n",
    "    Dense(10, activation='relu'),\n",
    "\n",
    "    Flatten(),\n",
    "    Dense(3, activation='softmax')\n",
    "])\n",
    "\n",
    "\n",
    "model.compile(Adam(lr = 0.0015),loss = 'categorical_crossentropy', metrics=['accuracy'])\n",
    "model.summary()"
   ]
  },
  {
   "cell_type": "code",
   "execution_count": 189,
   "metadata": {
    "scrolled": true
   },
   "outputs": [
    {
     "name": "stdout",
     "output_type": "stream",
     "text": [
      "Train on 4364 samples, validate on 1091 samples\n",
      "Epoch 1/20\n",
      " - 3s - loss: 0.8044 - acc: 0.5736 - val_loss: 0.6595 - val_acc: 0.5701\n",
      "Epoch 2/20\n",
      " - 1s - loss: 0.6429 - acc: 0.6787 - val_loss: 0.6131 - val_acc: 0.7259\n",
      "Epoch 3/20\n",
      " - 1s - loss: 0.5806 - acc: 0.7275 - val_loss: 0.5539 - val_acc: 0.7534\n",
      "Epoch 4/20\n",
      " - 1s - loss: 0.5226 - acc: 0.7530 - val_loss: 0.5257 - val_acc: 0.7434\n",
      "Epoch 5/20\n",
      " - 1s - loss: 0.4905 - acc: 0.7695 - val_loss: 0.4991 - val_acc: 0.7718\n",
      "Epoch 6/20\n",
      " - 1s - loss: 0.4694 - acc: 0.7942 - val_loss: 0.4962 - val_acc: 0.7663\n",
      "Epoch 7/20\n",
      " - 1s - loss: 0.4564 - acc: 0.8002 - val_loss: 0.4810 - val_acc: 0.7855\n",
      "Epoch 8/20\n",
      " - 1s - loss: 0.4407 - acc: 0.8096 - val_loss: 0.4705 - val_acc: 0.7938\n",
      "Epoch 9/20\n",
      " - 1s - loss: 0.4308 - acc: 0.8183 - val_loss: 0.4677 - val_acc: 0.7901\n",
      "Epoch 10/20\n",
      " - 1s - loss: 0.4178 - acc: 0.8169 - val_loss: 0.4748 - val_acc: 0.7809\n",
      "Epoch 11/20\n",
      " - 1s - loss: 0.4050 - acc: 0.8213 - val_loss: 0.4536 - val_acc: 0.7965\n",
      "Epoch 12/20\n",
      " - 1s - loss: 0.3952 - acc: 0.8313 - val_loss: 0.4432 - val_acc: 0.8075\n",
      "Epoch 13/20\n",
      " - 1s - loss: 0.3863 - acc: 0.8320 - val_loss: 0.4531 - val_acc: 0.7974\n",
      "Epoch 14/20\n",
      " - 1s - loss: 0.3801 - acc: 0.8364 - val_loss: 0.4546 - val_acc: 0.7965\n",
      "Epoch 15/20\n",
      " - 1s - loss: 0.3726 - acc: 0.8391 - val_loss: 0.4404 - val_acc: 0.8084\n",
      "Epoch 16/20\n",
      " - 1s - loss: 0.3655 - acc: 0.8501 - val_loss: 0.4588 - val_acc: 0.7993\n",
      "Epoch 17/20\n",
      " - 1s - loss: 0.3598 - acc: 0.8490 - val_loss: 0.4483 - val_acc: 0.8075\n",
      "Epoch 18/20\n",
      " - 1s - loss: 0.3534 - acc: 0.8554 - val_loss: 0.4396 - val_acc: 0.8093\n",
      "Epoch 19/20\n",
      " - 1s - loss: 0.3479 - acc: 0.8582 - val_loss: 0.4292 - val_acc: 0.8158\n",
      "Epoch 20/20\n",
      " - 1s - loss: 0.3429 - acc: 0.8600 - val_loss: 0.4564 - val_acc: 0.8130\n"
     ]
    },
    {
     "data": {
      "image/png": "[encoded data removed]",
      "text/plain": [
       "<Figure size 432x288 with 1 Axes>"
      ]
     },
     "metadata": {
      "needs_background": "light"
     },
     "output_type": "display_data"
    },
    {
     "name": "stdout",
     "output_type": "stream",
     "text": [
      "final validation acc:  0.81301558580451 \n",
      "final validation loss:  0.45636484985718695 \n",
      "final acc:  0.859990837484407 \n",
      "final loss:  0.3428877606018217\n"
     ]
    }
   ],
   "source": [
    "history = model.fit(x_train, y_train, validation_split = 0.2, batch_size = 200, epochs = 20, verbose = 2)\n",
    "all_data = list(history.history.values())\n",
    "\n",
    "val_loss, val_acc, loss, acc = all_data[0], all_data[1], all_data[2], all_data[3]\n",
    "\n",
    "plt.plot(val_loss, label = \"val_loss\")\n",
    "plt.plot(val_acc, label = \"val_acc\")\n",
    "plt.plot(loss, label = \"loss\")\n",
    "plt.plot(acc, label = \"acc\")\n",
    "plt.legend(loc='best')\n",
    "\n",
    "final_element = len(val_acc) - 1\n",
    "plt.show()\n",
    "print(\"final validation acc: \", val_acc[final_element],'\\n' \"final validation loss: \", val_loss[final_element],'\\n' \"final acc: \", acc[final_element],'\\n' \"final loss: \", loss[final_element])"
   ]
  },
  {
   "cell_type": "code",
   "execution_count": 186,
   "metadata": {},
   "outputs": [],
   "source": [
    "from keras.models import load_model\n",
    "model.save('mariplayer.h5')  # creates a HDF5 file 'my_model.h5'\n",
    "del model  # deletes the existing model\n",
    "\n",
    "# returns a compiled model\n",
    "# identical to the previous one\n"
   ]
  },
  {
   "cell_type": "code",
   "execution_count": null,
   "metadata": {},
   "outputs": [],
   "source": []
  },
  {
   "cell_type": "code",
   "execution_count": null,
   "metadata": {},
   "outputs": [],
   "source": []
  },
  {
   "cell_type": "code",
   "execution_count": null,
   "metadata": {},
   "outputs": [],
   "source": []
  },
  {
   "cell_type": "code",
   "execution_count": null,
   "metadata": {},
   "outputs": [],
   "source": []
  },
  {
   "cell_type": "code",
   "execution_count": null,
   "metadata": {},
   "outputs": [],
   "source": []
  },
  {
   "cell_type": "code",
   "execution_count": null,
   "metadata": {},
   "outputs": [],
   "source": []
  },
  {
   "cell_type": "code",
   "execution_count": null,
   "metadata": {},
   "outputs": [],
   "source": []
  },
  {
   "cell_type": "code",
   "execution_count": null,
   "metadata": {},
   "outputs": [],
   "source": []
  },
  {
   "cell_type": "code",
   "execution_count": null,
   "metadata": {},
   "outputs": [],
   "source": []
  },
  {
   "cell_type": "code",
   "execution_count": null,
   "metadata": {},
   "outputs": [],
   "source": []
  },
  {
   "cell_type": "code",
   "execution_count": 90,
   "metadata": {},
   "outputs": [
    {
     "data": {
      "text/plain": [
       "array([[[0.],\n",
       "        [0.],\n",
       "        [0.],\n",
       "        [0.],\n",
       "        [0.],\n",
       "        [0.],\n",
       "        [0.],\n",
       "        [0.],\n",
       "        [0.],\n",
       "        [0.],\n",
       "        [0.],\n",
       "        [0.],\n",
       "        [0.],\n",
       "        [1.],\n",
       "        [1.],\n",
       "        [0.]],\n",
       "\n",
       "       [[0.],\n",
       "        [0.],\n",
       "        [0.],\n",
       "        [0.],\n",
       "        [0.],\n",
       "        [0.],\n",
       "        [0.],\n",
       "        [0.],\n",
       "        [0.],\n",
       "        [0.],\n",
       "        [0.],\n",
       "        [0.],\n",
       "        [0.],\n",
       "        [1.],\n",
       "        [1.],\n",
       "        [0.]],\n",
       "\n",
       "       [[0.],\n",
       "        [0.],\n",
       "        [0.],\n",
       "        [0.],\n",
       "        [0.],\n",
       "        [0.],\n",
       "        [0.],\n",
       "        [0.],\n",
       "        [0.],\n",
       "        [0.],\n",
       "        [0.],\n",
       "        [0.],\n",
       "        [0.],\n",
       "        [1.],\n",
       "        [1.],\n",
       "        [0.]],\n",
       "\n",
       "       [[0.],\n",
       "        [0.],\n",
       "        [0.],\n",
       "        [0.],\n",
       "        [0.],\n",
       "        [0.],\n",
       "        [0.],\n",
       "        [0.],\n",
       "        [0.],\n",
       "        [0.],\n",
       "        [0.],\n",
       "        [0.],\n",
       "        [0.],\n",
       "        [1.],\n",
       "        [1.],\n",
       "        [0.]],\n",
       "\n",
       "       [[0.],\n",
       "        [0.],\n",
       "        [0.],\n",
       "        [0.],\n",
       "        [0.],\n",
       "        [0.],\n",
       "        [0.],\n",
       "        [0.],\n",
       "        [0.],\n",
       "        [0.],\n",
       "        [0.],\n",
       "        [0.],\n",
       "        [1.],\n",
       "        [1.],\n",
       "        [1.],\n",
       "        [0.]],\n",
       "\n",
       "       [[0.],\n",
       "        [0.],\n",
       "        [0.],\n",
       "        [0.],\n",
       "        [0.],\n",
       "        [0.],\n",
       "        [0.],\n",
       "        [0.],\n",
       "        [1.],\n",
       "        [0.],\n",
       "        [0.],\n",
       "        [0.],\n",
       "        [1.],\n",
       "        [1.],\n",
       "        [1.],\n",
       "        [0.]],\n",
       "\n",
       "       [[0.],\n",
       "        [0.],\n",
       "        [0.],\n",
       "        [0.],\n",
       "        [0.],\n",
       "        [0.],\n",
       "        [0.],\n",
       "        [0.],\n",
       "        [0.],\n",
       "        [0.],\n",
       "        [0.],\n",
       "        [0.],\n",
       "        [1.],\n",
       "        [1.],\n",
       "        [1.],\n",
       "        [0.]],\n",
       "\n",
       "       [[0.],\n",
       "        [0.],\n",
       "        [0.],\n",
       "        [0.],\n",
       "        [0.],\n",
       "        [0.],\n",
       "        [0.],\n",
       "        [0.],\n",
       "        [0.],\n",
       "        [0.],\n",
       "        [0.],\n",
       "        [3.],\n",
       "        [1.],\n",
       "        [1.],\n",
       "        [1.],\n",
       "        [0.]],\n",
       "\n",
       "       [[0.],\n",
       "        [0.],\n",
       "        [0.],\n",
       "        [0.],\n",
       "        [0.],\n",
       "        [0.],\n",
       "        [0.],\n",
       "        [0.],\n",
       "        [0.],\n",
       "        [0.],\n",
       "        [0.],\n",
       "        [0.],\n",
       "        [1.],\n",
       "        [1.],\n",
       "        [1.],\n",
       "        [0.]],\n",
       "\n",
       "       [[0.],\n",
       "        [0.],\n",
       "        [0.],\n",
       "        [0.],\n",
       "        [0.],\n",
       "        [0.],\n",
       "        [0.],\n",
       "        [0.],\n",
       "        [0.],\n",
       "        [0.],\n",
       "        [0.],\n",
       "        [0.],\n",
       "        [1.],\n",
       "        [1.],\n",
       "        [1.],\n",
       "        [0.]],\n",
       "\n",
       "       [[0.],\n",
       "        [0.],\n",
       "        [0.],\n",
       "        [0.],\n",
       "        [0.],\n",
       "        [0.],\n",
       "        [0.],\n",
       "        [0.],\n",
       "        [0.],\n",
       "        [0.],\n",
       "        [0.],\n",
       "        [0.],\n",
       "        [1.],\n",
       "        [1.],\n",
       "        [0.],\n",
       "        [0.]],\n",
       "\n",
       "       [[0.],\n",
       "        [0.],\n",
       "        [0.],\n",
       "        [0.],\n",
       "        [0.],\n",
       "        [0.],\n",
       "        [0.],\n",
       "        [0.],\n",
       "        [0.],\n",
       "        [0.],\n",
       "        [0.],\n",
       "        [0.],\n",
       "        [1.],\n",
       "        [1.],\n",
       "        [0.],\n",
       "        [0.]],\n",
       "\n",
       "       [[0.],\n",
       "        [0.],\n",
       "        [0.],\n",
       "        [0.],\n",
       "        [0.],\n",
       "        [0.],\n",
       "        [0.],\n",
       "        [0.],\n",
       "        [0.],\n",
       "        [0.],\n",
       "        [0.],\n",
       "        [0.],\n",
       "        [1.],\n",
       "        [1.],\n",
       "        [0.],\n",
       "        [0.]]])"
      ]
     },
     "execution_count": 90,
     "metadata": {},
     "output_type": "execute_result"
    }
   ],
   "source": []
  },
  {
   "cell_type": "code",
   "execution_count": null,
   "metadata": {},
   "outputs": [],
   "source": []
  }
 ],
 "metadata": {
  "kernelspec": {
   "display_name": "Python 3",
   "language": "python",
   "name": "python3"
  },
  "language_info": {
   "codemirror_mode": {
    "name": "ipython",
    "version": 3
   },
   "file_extension": ".py",
   "mimetype": "text/x-python",
   "name": "python",
   "nbconvert_exporter": "python",
   "pygments_lexer": "ipython3",
   "version": "3.6.6"
  },
  "varInspector": {
   "cols": {
    "lenName": 16,
    "lenType": 16,
    "lenVar": 40
   },
   "kernels_config": {
    "python": {
     "delete_cmd_postfix": "",
     "delete_cmd_prefix": "del ",
     "library": "var_list.py",
     "varRefreshCmd": "print(var_dic_list())"
    },
    "r": {
     "delete_cmd_postfix": ") ",
     "delete_cmd_prefix": "rm(",
     "library": "var_list.r",
     "varRefreshCmd": "cat(var_dic_list()) "
    }
   },
   "oldHeight": 451,
   "position": {
    "height": "40px",
    "left": "1488px",
    "right": "20px",
    "top": "120px",
    "width": "350px"
   },
   "types_to_exclude": [
    "module",
    "function",
    "builtin_function_or_method",
    "instance",
    "_Feature"
   ],
   "varInspector_section_display": "none",
   "window_display": true
  }
 },
 "nbformat": 4,
 "nbformat_minor": 2
}
