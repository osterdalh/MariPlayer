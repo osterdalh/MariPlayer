{
 "cells": [
  {
   "cell_type": "code",
   "execution_count": 233,
   "metadata": {},
   "outputs": [],
   "source": [
    "import numpy as np\n",
    "import keras\n",
    "import pickle\n",
    "import sklearn\n",
    "from sklearn.utils import shuffle"
   ]
  },
  {
   "cell_type": "code",
   "execution_count": 234,
   "metadata": {},
   "outputs": [],
   "source": [
    "with open('x_train_saved.pickle', 'rb') as f:\n",
    "    x_train = np.array(pickle.load(f))\n",
    "    \n",
    "    \n",
    "with open('y_train_saved.pickle', 'rb') as f:\n",
    "    y_train = np.array((pickle.load(f)))"
   ]
  },
  {
   "cell_type": "code",
   "execution_count": 235,
   "metadata": {},
   "outputs": [
    {
     "name": "stdout",
     "output_type": "stream",
     "text": [
      " x_train shape:  (5986, 208) \n",
      " y_train shape:  (5986, 4)\n"
     ]
    }
   ],
   "source": [
    "x_train = x_train[0,:,:]\n",
    "y_train = y_train[0,:,:]\n",
    "print(\" x_train shape: \", x_train.shape, \"\\n\", \"y_train shape: \", y_train.shape)"
   ]
  },
  {
   "cell_type": "code",
   "execution_count": null,
   "metadata": {},
   "outputs": [],
   "source": []
  },
  {
   "cell_type": "code",
   "execution_count": 236,
   "metadata": {},
   "outputs": [],
   "source": [
    "x_train = np.vstack(x_train)\n",
    "x_train = x_train.reshape(x_train.shape[0], 13, 16,1)\n",
    "y_train = np.vstack(y_train)\n",
    "x_train, y_train = shuffle(x_train, y_train, random_state=0)"
   ]
  },
  {
   "cell_type": "code",
   "execution_count": 237,
   "metadata": {},
   "outputs": [],
   "source": [
    "input_shape = (13, 16, 1)"
   ]
  },
  {
   "cell_type": "code",
   "execution_count": 238,
   "metadata": {},
   "outputs": [
    {
     "data": {
      "text/plain": [
       "(5986, 13, 16, 1)"
      ]
     },
     "execution_count": 238,
     "metadata": {},
     "output_type": "execute_result"
    }
   ],
   "source": [
    "x_train.shape"
   ]
  },
  {
   "cell_type": "code",
   "execution_count": null,
   "metadata": {},
   "outputs": [],
   "source": []
  },
  {
   "cell_type": "code",
   "execution_count": 239,
   "metadata": {},
   "outputs": [],
   "source": [
    "from keras.optimizers import Adam\n",
    "from keras.layers import Dense, Conv2D, Dropout, Flatten\n",
    "from keras import Sequential\n",
    "import matplotlib.pyplot as plt\n"
   ]
  },
  {
   "cell_type": "code",
   "execution_count": 268,
   "metadata": {},
   "outputs": [
    {
     "name": "stdout",
     "output_type": "stream",
     "text": [
      "_________________________________________________________________\n",
      "Layer (type)                 Output Shape              Param #   \n",
      "=================================================================\n",
      "conv2d_73 (Conv2D)           (None, 10, 13, 20)        340       \n",
      "_________________________________________________________________\n",
      "conv2d_74 (Conv2D)           (None, 8, 11, 4)          724       \n",
      "_________________________________________________________________\n",
      "dense_152 (Dense)            (None, 8, 11, 20)         100       \n",
      "_________________________________________________________________\n",
      "flatten_37 (Flatten)         (None, 1760)              0         \n",
      "_________________________________________________________________\n",
      "dense_153 (Dense)            (None, 4)                 7044      \n",
      "=================================================================\n",
      "Total params: 8,208\n",
      "Trainable params: 8,208\n",
      "Non-trainable params: 0\n",
      "_________________________________________________________________\n"
     ]
    }
   ],
   "source": [
    "model = Sequential([\n",
    "    #Dense(10, activation='relu', input_shape=(x_train.shape[1],)),\n",
    "   Conv2D(20, kernel_size=(4, 4), strides=(1, 1), activation='linear', input_shape=(input_shape)),\n",
    "    Conv2D(4, kernel_size=(3, 3), strides=(1, 1), activation='linear', input_shape=(input_shape)),\n",
    "\n",
    "    Dense(20, activation='relu'),\n",
    "    Flatten(),\n",
    "    Dense(4, activation='softmax')\n",
    "])\n",
    "\n",
    "\n",
    "model.compile(Adam(lr = 0.015),loss = 'categorical_crossentropy', metrics=['accuracy'])\n",
    "model.summary()"
   ]
  },
  {
   "cell_type": "code",
   "execution_count": 269,
   "metadata": {
    "scrolled": true
   },
   "outputs": [
    {
     "name": "stdout",
     "output_type": "stream",
     "text": [
      "Train on 4788 samples, validate on 1198 samples\n",
      "Epoch 1/20\n",
      " - 3s - loss: 0.6982 - acc: 0.7387 - val_loss: 0.6128 - val_acc: 0.7880\n",
      "Epoch 2/20\n",
      " - 1s - loss: 0.6038 - acc: 0.7717 - val_loss: 0.5971 - val_acc: 0.7755\n",
      "Epoch 3/20\n",
      " - 1s - loss: 0.5867 - acc: 0.7805 - val_loss: 0.5946 - val_acc: 0.7387\n",
      "Epoch 4/20\n",
      " - 1s - loss: 0.5876 - acc: 0.7721 - val_loss: 0.5972 - val_acc: 0.7462\n",
      "Epoch 5/20\n",
      " - 1s - loss: 0.5807 - acc: 0.7740 - val_loss: 0.5770 - val_acc: 0.7638\n",
      "Epoch 6/20\n",
      " - 1s - loss: 0.5763 - acc: 0.7696 - val_loss: 0.5777 - val_acc: 0.7913\n",
      "Epoch 7/20\n",
      " - 1s - loss: 0.5790 - acc: 0.7843 - val_loss: 0.5817 - val_acc: 0.8022\n",
      "Epoch 8/20\n",
      " - 1s - loss: 0.5694 - acc: 0.7797 - val_loss: 0.5905 - val_acc: 0.7913\n",
      "Epoch 9/20\n",
      " - 1s - loss: 0.5644 - acc: 0.7834 - val_loss: 0.5796 - val_acc: 0.8097\n",
      "Epoch 10/20\n",
      " - 1s - loss: 0.5645 - acc: 0.7832 - val_loss: 0.5842 - val_acc: 0.7838\n",
      "Epoch 11/20\n",
      " - 1s - loss: 0.5622 - acc: 0.7874 - val_loss: 0.5779 - val_acc: 0.7888\n",
      "Epoch 12/20\n",
      " - 1s - loss: 0.5552 - acc: 0.7838 - val_loss: 0.5827 - val_acc: 0.7863\n",
      "Epoch 13/20\n",
      " - 1s - loss: 0.5599 - acc: 0.7809 - val_loss: 0.5885 - val_acc: 0.8055\n",
      "Epoch 14/20\n",
      " - 1s - loss: 0.5676 - acc: 0.7730 - val_loss: 0.6112 - val_acc: 0.8272\n",
      "Epoch 15/20\n",
      " - 1s - loss: 0.5620 - acc: 0.7820 - val_loss: 0.5752 - val_acc: 0.7788\n",
      "Epoch 16/20\n",
      " - 1s - loss: 0.5552 - acc: 0.7834 - val_loss: 0.5796 - val_acc: 0.7629\n",
      "Epoch 17/20\n",
      " - 1s - loss: 0.5585 - acc: 0.7826 - val_loss: 0.5862 - val_acc: 0.7654\n",
      "Epoch 18/20\n",
      " - 1s - loss: 0.5546 - acc: 0.7832 - val_loss: 0.5809 - val_acc: 0.7805\n",
      "Epoch 19/20\n",
      " - 1s - loss: 0.5585 - acc: 0.7817 - val_loss: 0.6228 - val_acc: 0.7938\n",
      "Epoch 20/20\n",
      " - 1s - loss: 0.5576 - acc: 0.7792 - val_loss: 0.5847 - val_acc: 0.7571\n"
     ]
    }
   ],
   "source": [
    "history = model.fit(x_train, y_train, validation_split = 0.2, batch_size = 50, epochs = 20, verbose = 2)"
   ]
  },
  {
   "cell_type": "code",
   "execution_count": 270,
   "metadata": {},
   "outputs": [
    {
     "data": {
      "image/png": "[encoded data removed]",
      "text/plain": [
       "<Figure size 432x288 with 1 Axes>"
      ]
     },
     "metadata": {
      "needs_background": "light"
     },
     "output_type": "display_data"
    },
    {
     "name": "stdout",
     "output_type": "stream",
     "text": [
      "final validation acc:  0.7570951617818842 \n",
      "final validation loss:  0.5847199339301439 \n",
      "final acc:  0.7792397605048286 \n",
      "final loss:  0.5575906569721705\n"
     ]
    }
   ],
   "source": [
    "all_data = list(history.history.values())\n",
    "\n",
    "val_loss, val_acc, loss, acc = all_data[0], all_data[1], all_data[2], all_data[3]\n",
    "\n",
    "plt.plot(val_loss, label = \"val_loss\")\n",
    "plt.plot(val_acc, label = \"val_acc\")\n",
    "plt.plot(loss, label = \"loss\")\n",
    "plt.plot(acc, label = \"acc\")\n",
    "plt.legend(loc='best')\n",
    "\n",
    "final_element = len(val_acc)-1\n",
    "plt.show()\n",
    "print(\"final validation acc: \", val_acc[final_element],'\\n' \"final validation loss: \", val_loss[final_element],'\\n' \"final acc: \", acc[final_element],'\\n' \"final loss: \", loss[final_element])"
   ]
  },
  {
   "cell_type": "code",
   "execution_count": 256,
   "metadata": {},
   "outputs": [
    {
     "data": {
      "text/plain": [
       "array([[4.2891685e-02, 9.6296855e-05, 9.4994521e-01, 7.0667821e-03],\n",
       "       [6.8731588e-01, 8.1530407e-06, 3.1253481e-01, 1.4105992e-04],\n",
       "       [2.6434639e-02, 1.4984739e-04, 9.2187572e-01, 5.1539775e-02],\n",
       "       ...,\n",
       "       [2.0283476e-02, 2.9810226e-07, 9.7859734e-01, 1.1188340e-03],\n",
       "       [4.6258993e-03, 5.6809796e-07, 9.9475420e-01, 6.1931752e-04],\n",
       "       [6.0523089e-02, 1.6854597e-06, 9.3745583e-01, 2.0194284e-03]],\n",
       "      dtype=float32)"
      ]
     },
     "execution_count": 256,
     "metadata": {},
     "output_type": "execute_result"
    }
   ],
   "source": [
    "model.predict(x_train)"
   ]
  },
  {
   "cell_type": "code",
   "execution_count": 257,
   "metadata": {},
   "outputs": [
    {
     "data": {
      "text/plain": [
       "array([[0, 0, 1, 0],\n",
       "       [1, 0, 1, 0],\n",
       "       [0, 0, 0, 1],\n",
       "       ...,\n",
       "       [0, 0, 1, 0],\n",
       "       [0, 0, 1, 0],\n",
       "       [1, 0, 1, 0]])"
      ]
     },
     "execution_count": 257,
     "metadata": {},
     "output_type": "execute_result"
    }
   ],
   "source": [
    "y_train"
   ]
  },
  {
   "cell_type": "code",
   "execution_count": null,
   "metadata": {},
   "outputs": [],
   "source": []
  }
 ],
 "metadata": {
  "kernelspec": {
   "display_name": "Python 3",
   "language": "python",
   "name": "python3"
  },
  "language_info": {
   "codemirror_mode": {
    "name": "ipython",
    "version": 3
   },
   "file_extension": ".py",
   "mimetype": "text/x-python",
   "name": "python",
   "nbconvert_exporter": "python",
   "pygments_lexer": "ipython3",
   "version": "3.6.6"
  },
  "varInspector": {
   "cols": {
    "lenName": 16,
    "lenType": 16,
    "lenVar": 40
   },
   "kernels_config": {
    "python": {
     "delete_cmd_postfix": "",
     "delete_cmd_prefix": "del ",
     "library": "var_list.py",
     "varRefreshCmd": "print(var_dic_list())"
    },
    "r": {
     "delete_cmd_postfix": ") ",
     "delete_cmd_prefix": "rm(",
     "library": "var_list.r",
     "varRefreshCmd": "cat(var_dic_list()) "
    }
   },
   "types_to_exclude": [
    "module",
    "function",
    "builtin_function_or_method",
    "instance",
    "_Feature"
   ],
   "window_display": false
  }
 },
 "nbformat": 4,
 "nbformat_minor": 2
}
