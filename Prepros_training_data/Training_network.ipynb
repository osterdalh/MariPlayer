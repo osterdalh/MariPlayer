{
 "cells": [
  {
   "cell_type": "code",
   "execution_count": 26,
   "metadata": {},
   "outputs": [],
   "source": [
    "import numpy as np\n",
    "import keras\n",
    "import pickle\n",
    "import sklearn\n",
    "from sklearn.utils import shuffle\n",
    "import pandas as pd\n",
    "from random import shuffle\n"
   ]
  },
  {
   "cell_type": "code",
   "execution_count": 27,
   "metadata": {},
   "outputs": [],
   "source": [
    "with open('x_train_saved.pickle', 'rb') as f:\n",
    "    x_train = np.array(pickle.load(f))\n",
    "    \n",
    "    \n",
    "with open('y_train_saved.pickle', 'rb') as f:\n",
    "    y_train = np.array((pickle.load(f)))"
   ]
  },
  {
   "cell_type": "code",
   "execution_count": 28,
   "metadata": {},
   "outputs": [
    {
     "name": "stdout",
     "output_type": "stream",
     "text": [
      " x_train shape:  (8479, 208) \n",
      " y_train shape:  (8479, 3)\n"
     ]
    }
   ],
   "source": [
    "x_train = x_train[0,:,:]\n",
    "y_train = y_train[0,:,:]\n",
    "print(\" x_train shape: \", x_train.shape, \"\\n\", \"y_train shape: \", y_train.shape)"
   ]
  },
  {
   "cell_type": "code",
   "execution_count": null,
   "metadata": {},
   "outputs": [],
   "source": []
  },
  {
   "cell_type": "code",
   "execution_count": 29,
   "metadata": {},
   "outputs": [],
   "source": [
    "x_train = np.vstack(x_train)\n",
    "x_train = x_train.reshape(x_train.shape[0], 13, 16,1)\n",
    "y_train = np.vstack(y_train)\n",
    "#x_train, y_train = shuffle(x_train, y_train, random_state=1)\n",
    "input_shape = (13, 16, 1)"
   ]
  },
  {
   "cell_type": "code",
   "execution_count": 30,
   "metadata": {
    "scrolled": true
   },
   "outputs": [
    {
     "data": {
      "text/plain": [
       "(8479, 13, 16, 1)"
      ]
     },
     "execution_count": 30,
     "metadata": {},
     "output_type": "execute_result"
    }
   ],
   "source": [
    "x_train.shape"
   ]
  },
  {
   "cell_type": "code",
   "execution_count": 31,
   "metadata": {},
   "outputs": [
    {
     "name": "stdout",
     "output_type": "stream",
     "text": [
      "antall hopp: 5 antall høyre: 3987 antall HH 4487\n"
     ]
    }
   ],
   "source": [
    "hopp = 0\n",
    "hoyre = 0\n",
    "HH = 0\n",
    "\n",
    "antall_hoyre = []\n",
    "\n",
    "for i in range(len(y_train)):\n",
    "    if y_train[i][0] == 1:\n",
    "        hopp = hopp + 1\n",
    "    elif y_train[i][1] == 1:\n",
    "        hoyre = hoyre + 1\n",
    "        antall_hoyre.append(i)\n",
    "    elif y_train[i][2] == 1:\n",
    "        HH = HH + 1\n",
    "print(\"antall hopp:\", hopp, \"antall høyre:\", hoyre, \"antall HH\", HH)    \n",
    "    \n",
    "\n",
    "shuffle(antall_hoyre)        \n",
    "#print(antall_hoyre)\n",
    "delete_frames = antall_hoyre[:HH]\n",
    "\n",
    "    "
   ]
  },
  {
   "cell_type": "code",
   "execution_count": null,
   "metadata": {},
   "outputs": [],
   "source": []
  },
  {
   "cell_type": "code",
   "execution_count": 32,
   "metadata": {},
   "outputs": [
    {
     "name": "stdout",
     "output_type": "stream",
     "text": [
      "5 3987 4487\n"
     ]
    }
   ],
   "source": [
    "import matplotlib.pyplot as plt\n",
    "print(hopp, hoyre, HH)"
   ]
  },
  {
   "cell_type": "code",
   "execution_count": 33,
   "metadata": {},
   "outputs": [],
   "source": [
    "from keras.optimizers import Adam\n",
    "from keras.layers import Dense, Conv2D, Dropout, Flatten\n",
    "from keras import Sequential\n",
    "import matplotlib.pyplot as plt\n",
    "import seaborn as sns"
   ]
  },
  {
   "cell_type": "code",
   "execution_count": 34,
   "metadata": {},
   "outputs": [
    {
     "name": "stdout",
     "output_type": "stream",
     "text": [
      "_________________________________________________________________\n",
      "Layer (type)                 Output Shape              Param #   \n",
      "=================================================================\n",
      "dense_16 (Dense)             (None, 13, 16, 10)        20        \n",
      "_________________________________________________________________\n",
      "dense_17 (Dense)             (None, 13, 16, 20)        220       \n",
      "_________________________________________________________________\n",
      "dense_18 (Dense)             (None, 13, 16, 12)        252       \n",
      "_________________________________________________________________\n",
      "flatten_5 (Flatten)          (None, 2496)              0         \n",
      "_________________________________________________________________\n",
      "dense_19 (Dense)             (None, 3)                 7491      \n",
      "=================================================================\n",
      "Total params: 7,983\n",
      "Trainable params: 7,983\n",
      "Non-trainable params: 0\n",
      "_________________________________________________________________\n"
     ]
    }
   ],
   "source": [
    "model = Sequential([\n",
    "    Dense(10, activation='relu', input_shape=(input_shape)),\n",
    "    #Conv2D(20, kernel_size=(3, 3), strides=(1, 1), activation='linear', input_shape=(input_shape)),\n",
    "    Dense(20, activation='relu'),\n",
    "\n",
    "    #Conv2D(4, kernel_size=(3, 3), strides=(3, 3), activation='linear'),\n",
    "\n",
    "    Dense(12, activation='relu'),\n",
    "\n",
    "    Flatten(),\n",
    "    Dense(3, activation='softmax')\n",
    "])\n",
    "\n",
    "\n",
    "model.compile(Adam(lr = 0.015),loss = 'categorical_crossentropy', metrics=['accuracy'])\n",
    "model.summary()"
   ]
  },
  {
   "cell_type": "code",
   "execution_count": 35,
   "metadata": {
    "scrolled": true
   },
   "outputs": [
    {
     "name": "stdout",
     "output_type": "stream",
     "text": [
      "Train on 6783 samples, validate on 1696 samples\n",
      "Epoch 1/40\n",
      " - 2s - loss: 0.5219 - acc: 0.7479 - val_loss: 0.5499 - val_acc: 0.7524\n",
      "Epoch 2/40\n",
      " - 1s - loss: 0.4448 - acc: 0.8041 - val_loss: 0.6037 - val_acc: 0.7565\n",
      "Epoch 3/40\n",
      " - 1s - loss: 0.4383 - acc: 0.8088 - val_loss: 0.5875 - val_acc: 0.7612\n",
      "Epoch 4/40\n",
      " - 1s - loss: 0.4337 - acc: 0.8142 - val_loss: 0.5477 - val_acc: 0.7671\n",
      "Epoch 5/40\n",
      " - 1s - loss: 0.4314 - acc: 0.8153 - val_loss: 0.5296 - val_acc: 0.7577\n",
      "Epoch 6/40\n",
      " - 1s - loss: 0.4245 - acc: 0.8162 - val_loss: 0.5243 - val_acc: 0.7700\n",
      "Epoch 7/40\n",
      " - 1s - loss: 0.4172 - acc: 0.8254 - val_loss: 0.5444 - val_acc: 0.7748\n",
      "Epoch 8/40\n",
      " - 1s - loss: 0.4116 - acc: 0.8254 - val_loss: 0.5405 - val_acc: 0.7783\n",
      "Epoch 9/40\n",
      " - 1s - loss: 0.4010 - acc: 0.8310 - val_loss: 0.5714 - val_acc: 0.7742\n",
      "Epoch 10/40\n",
      " - 1s - loss: 0.4012 - acc: 0.8309 - val_loss: 0.5225 - val_acc: 0.7754\n",
      "Epoch 11/40\n",
      " - 1s - loss: 0.3945 - acc: 0.8371 - val_loss: 0.5152 - val_acc: 0.7724\n",
      "Epoch 12/40\n",
      " - 1s - loss: 0.4045 - acc: 0.8266 - val_loss: 0.5466 - val_acc: 0.7754\n",
      "Epoch 13/40\n",
      " - 1s - loss: 0.3973 - acc: 0.8300 - val_loss: 0.5338 - val_acc: 0.7889\n",
      "Epoch 14/40\n",
      " - 1s - loss: 0.3939 - acc: 0.8350 - val_loss: 0.5169 - val_acc: 0.7836\n",
      "Epoch 15/40\n",
      " - 1s - loss: 0.3921 - acc: 0.8337 - val_loss: 0.5482 - val_acc: 0.7854\n",
      "Epoch 16/40\n",
      " - 1s - loss: 0.3909 - acc: 0.8384 - val_loss: 0.5432 - val_acc: 0.7695\n",
      "Epoch 17/40\n",
      " - 1s - loss: 0.3913 - acc: 0.8303 - val_loss: 0.5489 - val_acc: 0.7724\n",
      "Epoch 18/40\n",
      " - 1s - loss: 0.3906 - acc: 0.8358 - val_loss: 0.5361 - val_acc: 0.7742\n",
      "Epoch 19/40\n",
      " - 1s - loss: 0.3876 - acc: 0.8359 - val_loss: 0.5489 - val_acc: 0.7765\n",
      "Epoch 20/40\n",
      " - 1s - loss: 0.3838 - acc: 0.8381 - val_loss: 0.5562 - val_acc: 0.7854\n",
      "Epoch 21/40\n",
      " - 1s - loss: 0.3902 - acc: 0.8359 - val_loss: 0.5980 - val_acc: 0.7777\n",
      "Epoch 22/40\n",
      " - 1s - loss: 0.3850 - acc: 0.8372 - val_loss: 0.5259 - val_acc: 0.7730\n",
      "Epoch 23/40\n",
      " - 1s - loss: 0.3910 - acc: 0.8365 - val_loss: 0.5646 - val_acc: 0.7860\n",
      "Epoch 24/40\n",
      " - 1s - loss: 0.3869 - acc: 0.8343 - val_loss: 0.5352 - val_acc: 0.7671\n",
      "Epoch 25/40\n",
      " - 1s - loss: 0.3875 - acc: 0.8380 - val_loss: 0.5234 - val_acc: 0.7724\n",
      "Epoch 26/40\n",
      " - 1s - loss: 0.3842 - acc: 0.8377 - val_loss: 0.6152 - val_acc: 0.7742\n",
      "Epoch 27/40\n",
      " - 1s - loss: 0.3955 - acc: 0.8303 - val_loss: 0.5475 - val_acc: 0.7771\n",
      "Epoch 28/40\n",
      " - 1s - loss: 0.3884 - acc: 0.8392 - val_loss: 0.5578 - val_acc: 0.7765\n",
      "Epoch 29/40\n",
      " - 1s - loss: 0.3876 - acc: 0.8411 - val_loss: 0.5335 - val_acc: 0.7742\n",
      "Epoch 30/40\n",
      " - 1s - loss: 0.3911 - acc: 0.8364 - val_loss: 0.6183 - val_acc: 0.7700\n",
      "Epoch 31/40\n",
      " - 1s - loss: 0.3847 - acc: 0.8364 - val_loss: 0.5601 - val_acc: 0.7718\n",
      "Epoch 32/40\n",
      " - 1s - loss: 0.3841 - acc: 0.8378 - val_loss: 0.5722 - val_acc: 0.7724\n",
      "Epoch 33/40\n",
      " - 1s - loss: 0.3849 - acc: 0.8353 - val_loss: 0.5470 - val_acc: 0.7765\n",
      "Epoch 34/40\n",
      " - 1s - loss: 0.3849 - acc: 0.8380 - val_loss: 0.5368 - val_acc: 0.7748\n",
      "Epoch 35/40\n",
      " - 1s - loss: 0.3847 - acc: 0.8384 - val_loss: 0.5240 - val_acc: 0.7759\n",
      "Epoch 36/40\n",
      " - 1s - loss: 0.3862 - acc: 0.8400 - val_loss: 0.5448 - val_acc: 0.7683\n",
      "Epoch 37/40\n",
      " - 1s - loss: 0.3870 - acc: 0.8347 - val_loss: 0.5179 - val_acc: 0.7759\n",
      "Epoch 38/40\n",
      " - 1s - loss: 0.3866 - acc: 0.8389 - val_loss: 0.5404 - val_acc: 0.7889\n",
      "Epoch 39/40\n",
      " - 1s - loss: 0.3802 - acc: 0.8396 - val_loss: 0.5323 - val_acc: 0.7683\n",
      "Epoch 40/40\n",
      " - 1s - loss: 0.3872 - acc: 0.8367 - val_loss: 0.5249 - val_acc: 0.7748\n"
     ]
    },
    {
     "data": {
      "image/png": "[encoded data removed]",
      "text/plain": [
       "<Figure size 432x288 with 1 Axes>"
      ]
     },
     "metadata": {
      "needs_background": "light"
     },
     "output_type": "display_data"
    },
    {
     "name": "stdout",
     "output_type": "stream",
     "text": [
      "final validation acc:  0.7747641495903427 \n",
      "final validation loss:  0.524898439768772 \n",
      "final acc:  0.8366504465428212 \n",
      "final loss:  0.38715043861694115\n"
     ]
    }
   ],
   "source": [
    "history = model.fit(x_train, y_train, validation_split = 0.2, batch_size = 50, epochs = 40, verbose = 2)\n",
    "all_data = list(history.history.values())\n",
    "\n",
    "val_loss, val_acc, loss, acc = all_data[0], all_data[1], all_data[2], all_data[3]\n",
    "\n",
    "plt.plot(val_loss, label = \"val_loss\")\n",
    "plt.plot(val_acc, label = \"val_acc\")\n",
    "plt.plot(loss, label = \"loss\")\n",
    "plt.plot(acc, label = \"acc\")\n",
    "plt.legend(loc='best')\n",
    "\n",
    "final_element = len(val_acc) - 1\n",
    "plt.show()\n",
    "print(\"final validation acc: \", val_acc[final_element],'\\n' \"final validation loss: \", val_loss[final_element],'\\n' \"final acc: \", acc[final_element],'\\n' \"final loss: \", loss[final_element])"
   ]
  },
  {
   "cell_type": "code",
   "execution_count": 36,
   "metadata": {},
   "outputs": [],
   "source": [
    "from keras.models import load_model\n",
    "model.save('mariplayer.h5')  # creates a HDF5 file 'my_model.h5'\n",
    "del model  # deletes the existing model\n",
    "\n",
    "# returns a compiled model\n",
    "# identical to the previous one\n"
   ]
  },
  {
   "cell_type": "code",
   "execution_count": null,
   "metadata": {},
   "outputs": [],
   "source": []
  },
  {
   "cell_type": "code",
   "execution_count": null,
   "metadata": {},
   "outputs": [],
   "source": []
  },
  {
   "cell_type": "code",
   "execution_count": null,
   "metadata": {},
   "outputs": [],
   "source": []
  },
  {
   "cell_type": "code",
   "execution_count": null,
   "metadata": {},
   "outputs": [],
   "source": []
  },
  {
   "cell_type": "code",
   "execution_count": null,
   "metadata": {},
   "outputs": [],
   "source": []
  },
  {
   "cell_type": "code",
   "execution_count": null,
   "metadata": {},
   "outputs": [],
   "source": []
  },
  {
   "cell_type": "code",
   "execution_count": null,
   "metadata": {},
   "outputs": [],
   "source": []
  },
  {
   "cell_type": "code",
   "execution_count": null,
   "metadata": {},
   "outputs": [],
   "source": []
  },
  {
   "cell_type": "code",
   "execution_count": null,
   "metadata": {},
   "outputs": [],
   "source": []
  },
  {
   "cell_type": "code",
   "execution_count": null,
   "metadata": {},
   "outputs": [],
   "source": []
  },
  {
   "cell_type": "code",
   "execution_count": 90,
   "metadata": {},
   "outputs": [
    {
     "data": {
      "text/plain": [
       "array([[[0.],\n",
       "        [0.],\n",
       "        [0.],\n",
       "        [0.],\n",
       "        [0.],\n",
       "        [0.],\n",
       "        [0.],\n",
       "        [0.],\n",
       "        [0.],\n",
       "        [0.],\n",
       "        [0.],\n",
       "        [0.],\n",
       "        [0.],\n",
       "        [1.],\n",
       "        [1.],\n",
       "        [0.]],\n",
       "\n",
       "       [[0.],\n",
       "        [0.],\n",
       "        [0.],\n",
       "        [0.],\n",
       "        [0.],\n",
       "        [0.],\n",
       "        [0.],\n",
       "        [0.],\n",
       "        [0.],\n",
       "        [0.],\n",
       "        [0.],\n",
       "        [0.],\n",
       "        [0.],\n",
       "        [1.],\n",
       "        [1.],\n",
       "        [0.]],\n",
       "\n",
       "       [[0.],\n",
       "        [0.],\n",
       "        [0.],\n",
       "        [0.],\n",
       "        [0.],\n",
       "        [0.],\n",
       "        [0.],\n",
       "        [0.],\n",
       "        [0.],\n",
       "        [0.],\n",
       "        [0.],\n",
       "        [0.],\n",
       "        [0.],\n",
       "        [1.],\n",
       "        [1.],\n",
       "        [0.]],\n",
       "\n",
       "       [[0.],\n",
       "        [0.],\n",
       "        [0.],\n",
       "        [0.],\n",
       "        [0.],\n",
       "        [0.],\n",
       "        [0.],\n",
       "        [0.],\n",
       "        [0.],\n",
       "        [0.],\n",
       "        [0.],\n",
       "        [0.],\n",
       "        [0.],\n",
       "        [1.],\n",
       "        [1.],\n",
       "        [0.]],\n",
       "\n",
       "       [[0.],\n",
       "        [0.],\n",
       "        [0.],\n",
       "        [0.],\n",
       "        [0.],\n",
       "        [0.],\n",
       "        [0.],\n",
       "        [0.],\n",
       "        [0.],\n",
       "        [0.],\n",
       "        [0.],\n",
       "        [0.],\n",
       "        [1.],\n",
       "        [1.],\n",
       "        [1.],\n",
       "        [0.]],\n",
       "\n",
       "       [[0.],\n",
       "        [0.],\n",
       "        [0.],\n",
       "        [0.],\n",
       "        [0.],\n",
       "        [0.],\n",
       "        [0.],\n",
       "        [0.],\n",
       "        [1.],\n",
       "        [0.],\n",
       "        [0.],\n",
       "        [0.],\n",
       "        [1.],\n",
       "        [1.],\n",
       "        [1.],\n",
       "        [0.]],\n",
       "\n",
       "       [[0.],\n",
       "        [0.],\n",
       "        [0.],\n",
       "        [0.],\n",
       "        [0.],\n",
       "        [0.],\n",
       "        [0.],\n",
       "        [0.],\n",
       "        [0.],\n",
       "        [0.],\n",
       "        [0.],\n",
       "        [0.],\n",
       "        [1.],\n",
       "        [1.],\n",
       "        [1.],\n",
       "        [0.]],\n",
       "\n",
       "       [[0.],\n",
       "        [0.],\n",
       "        [0.],\n",
       "        [0.],\n",
       "        [0.],\n",
       "        [0.],\n",
       "        [0.],\n",
       "        [0.],\n",
       "        [0.],\n",
       "        [0.],\n",
       "        [0.],\n",
       "        [3.],\n",
       "        [1.],\n",
       "        [1.],\n",
       "        [1.],\n",
       "        [0.]],\n",
       "\n",
       "       [[0.],\n",
       "        [0.],\n",
       "        [0.],\n",
       "        [0.],\n",
       "        [0.],\n",
       "        [0.],\n",
       "        [0.],\n",
       "        [0.],\n",
       "        [0.],\n",
       "        [0.],\n",
       "        [0.],\n",
       "        [0.],\n",
       "        [1.],\n",
       "        [1.],\n",
       "        [1.],\n",
       "        [0.]],\n",
       "\n",
       "       [[0.],\n",
       "        [0.],\n",
       "        [0.],\n",
       "        [0.],\n",
       "        [0.],\n",
       "        [0.],\n",
       "        [0.],\n",
       "        [0.],\n",
       "        [0.],\n",
       "        [0.],\n",
       "        [0.],\n",
       "        [0.],\n",
       "        [1.],\n",
       "        [1.],\n",
       "        [1.],\n",
       "        [0.]],\n",
       "\n",
       "       [[0.],\n",
       "        [0.],\n",
       "        [0.],\n",
       "        [0.],\n",
       "        [0.],\n",
       "        [0.],\n",
       "        [0.],\n",
       "        [0.],\n",
       "        [0.],\n",
       "        [0.],\n",
       "        [0.],\n",
       "        [0.],\n",
       "        [1.],\n",
       "        [1.],\n",
       "        [0.],\n",
       "        [0.]],\n",
       "\n",
       "       [[0.],\n",
       "        [0.],\n",
       "        [0.],\n",
       "        [0.],\n",
       "        [0.],\n",
       "        [0.],\n",
       "        [0.],\n",
       "        [0.],\n",
       "        [0.],\n",
       "        [0.],\n",
       "        [0.],\n",
       "        [0.],\n",
       "        [1.],\n",
       "        [1.],\n",
       "        [0.],\n",
       "        [0.]],\n",
       "\n",
       "       [[0.],\n",
       "        [0.],\n",
       "        [0.],\n",
       "        [0.],\n",
       "        [0.],\n",
       "        [0.],\n",
       "        [0.],\n",
       "        [0.],\n",
       "        [0.],\n",
       "        [0.],\n",
       "        [0.],\n",
       "        [0.],\n",
       "        [1.],\n",
       "        [1.],\n",
       "        [0.],\n",
       "        [0.]]])"
      ]
     },
     "execution_count": 90,
     "metadata": {},
     "output_type": "execute_result"
    }
   ],
   "source": []
  },
  {
   "cell_type": "code",
   "execution_count": null,
   "metadata": {},
   "outputs": [],
   "source": []
  }
 ],
 "metadata": {
  "kernelspec": {
   "display_name": "Python 3",
   "language": "python",
   "name": "python3"
  },
  "language_info": {
   "codemirror_mode": {
    "name": "ipython",
    "version": 3
   },
   "file_extension": ".py",
   "mimetype": "text/x-python",
   "name": "python",
   "nbconvert_exporter": "python",
   "pygments_lexer": "ipython3",
   "version": "3.6.6"
  },
  "varInspector": {
   "cols": {
    "lenName": 16,
    "lenType": 16,
    "lenVar": 40
   },
   "kernels_config": {
    "python": {
     "delete_cmd_postfix": "",
     "delete_cmd_prefix": "del ",
     "library": "var_list.py",
     "varRefreshCmd": "print(var_dic_list())"
    },
    "r": {
     "delete_cmd_postfix": ") ",
     "delete_cmd_prefix": "rm(",
     "library": "var_list.r",
     "varRefreshCmd": "cat(var_dic_list()) "
    }
   },
   "oldHeight": 451,
   "position": {
    "height": "40px",
    "left": "1488px",
    "right": "20px",
    "top": "120px",
    "width": "350px"
   },
   "types_to_exclude": [
    "module",
    "function",
    "builtin_function_or_method",
    "instance",
    "_Feature"
   ],
   "varInspector_section_display": "none",
   "window_display": true
  }
 },
 "nbformat": 4,
 "nbformat_minor": 2
}
